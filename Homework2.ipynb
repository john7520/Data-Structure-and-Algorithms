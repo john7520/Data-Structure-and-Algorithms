{
 "cells": [
  {
   "cell_type": "code",
   "execution_count": 10,
   "id": "ff8009c5",
   "metadata": {},
   "outputs": [],
   "source": [
    "SampleStudents = [\n",
    "    {'ID': 'DBU1600003', 'Name': 'Netsanet', 'Department': 'CS', 'CGPA': 3.41},\n",
    "    {'ID': 'DBU1600001', 'Name': 'Amanueli', 'Department': 'CS', 'CGPA': 3.27},\n",
    "    {'ID': 'DBU1600000', 'Name': 'Bizunesh', 'Department': 'CS', 'CGPA': 2.91},\n",
    "    {'ID': 'DBU1600004', 'Name': 'Mekdesee', 'Department': 'CS', 'CGPA': 3.93},\n",
    "    {'ID': 'DBU1600009', 'Name': 'Selamwit', 'Department': 'CS', 'CGPA': 3.91},\n",
    "    {'ID': 'DBU1600006', 'Name': 'Zewudnsh', 'Department': 'CS', 'CGPA': 2.56},\n",
    "    {'ID': 'DBU1600007', 'Name': 'Zemenaye', 'Department': 'CS', 'CGPA': 4.00},\n",
    "    {'ID': 'DBU1600002', 'Name': 'Yohannes', 'Department': 'CS', 'CGPA': 3.45},\n",
    "    {'ID': 'DBU1600005', 'Name': 'Getahunm', 'Department': 'CS', 'CGPA': 3.89},\n",
    "    {'ID': 'DBU1600008', 'Name': 'Bereketu', 'Department': 'CS', 'CGPA': 3.86},\n",
    "    {'ID': 'DBU1600010', 'Name': 'Aberawek', 'Department': 'CS', 'CGPA': 3.00},\n",
    "    {'ID': 'DBU1600014', 'Name': 'Getachew', 'Department': 'CS', 'CGPA': 3.82},\n",
    "    {'ID': 'DBU1600013', 'Name': 'Betelhem', 'Department': 'CS', 'CGPA': 2.67},\n",
    "    {'ID': 'DBU1600015', 'Name': 'Dinknesh', 'Department': 'CS', 'CGPA': 3.67},\n",
    "    {'ID': 'DBU1600011', 'Name': 'Girmawit', 'Department': 'CS', 'CGPA': 2.86}\n",
    "]"
   ]
  },
  {
   "cell_type": "markdown",
   "id": "e37fb8f1",
   "metadata": {},
   "source": [
    "#### Bubble Sort Algorithm\n",
    "- Write a function for the Bubble sort algorithm to sort the list of student dictionaries by ID"
   ]
  },
  {
   "cell_type": "code",
   "execution_count": 11,
   "id": "75f424e0",
   "metadata": {},
   "outputs": [],
   "source": [
    "def SortByID(ListOfStudents):\n",
    "    for i in range(len(ListOfStudents)):\n",
    "        for j in range(i+1,len(ListOfStudents)):\n",
    "            if ListOfStudents[i]['ID']>ListOfStudents[j]['ID']:\n",
    "                ListOfStudents[i],ListOfStudents[j]=ListOfStudents[j],ListOfStudents[i]\n",
    "    print(\"-\"*80)\n",
    "    print(\"ID\\t\\t\\tNAME\\t\\t\\tDEPARTMENT\\t\\tCGPA\")\n",
    "    print(\"-\"*80)\n",
    "    for i in range(len(ListOfStudents)):\n",
    "        print(ListOfStudents[i]['ID'],\"\\t\\t\",ListOfStudents[i]['Name'],\"\\t\\t\",\n",
    "              ListOfStudents[i]['Department'],\"\\t\\t\\t\\t\",ListOfStudents[i]['CGPA'])  \n",
    "# SortByID(SampleStudents) \n"
   ]
  },
  {
   "cell_type": "markdown",
   "id": "4e8dcc35",
   "metadata": {},
   "source": [
    "- By using Bubble sort algorithm in the above SampleStudents list have sorted By ID number to run  this code\n",
    "- let see the sample outputs..."
   ]
  },
  {
   "cell_type": "code",
   "execution_count": 12,
   "id": "311401b1",
   "metadata": {},
   "outputs": [
    {
     "name": "stdout",
     "output_type": "stream",
     "text": [
      "--------------------------------------------------------------------------------\n",
      "ID\t\t\tNAME\t\t\tDEPARTMENT\t\tCGPA\n",
      "--------------------------------------------------------------------------------\n",
      "DBU1600000 \t\t Bizunesh \t\t CS \t\t\t\t 2.91\n",
      "DBU1600001 \t\t Amanueli \t\t CS \t\t\t\t 3.27\n",
      "DBU1600002 \t\t Yohannes \t\t CS \t\t\t\t 3.45\n",
      "DBU1600003 \t\t Netsanet \t\t CS \t\t\t\t 3.41\n",
      "DBU1600004 \t\t Mekdesee \t\t CS \t\t\t\t 3.93\n",
      "DBU1600005 \t\t Getahunm \t\t CS \t\t\t\t 3.89\n",
      "DBU1600006 \t\t Zewudnsh \t\t CS \t\t\t\t 2.56\n",
      "DBU1600007 \t\t Zemenaye \t\t CS \t\t\t\t 4.0\n",
      "DBU1600008 \t\t Bereketu \t\t CS \t\t\t\t 3.86\n",
      "DBU1600009 \t\t Selamwit \t\t CS \t\t\t\t 3.91\n",
      "DBU1600010 \t\t Aberawek \t\t CS \t\t\t\t 3.0\n",
      "DBU1600011 \t\t Girmawit \t\t CS \t\t\t\t 2.86\n",
      "DBU1600013 \t\t Betelhem \t\t CS \t\t\t\t 2.67\n",
      "DBU1600014 \t\t Getachew \t\t CS \t\t\t\t 3.82\n",
      "DBU1600015 \t\t Dinknesh \t\t CS \t\t\t\t 3.67\n"
     ]
    }
   ],
   "source": [
    "SortByID(SampleStudents)"
   ]
  },
  {
   "cell_type": "markdown",
   "id": "bcaffde9",
   "metadata": {},
   "source": [
    "#### Insertion Sort Algorithm\n",
    "- Write a function for the Insertion sort algorithm to sort the list of students alphabetically by Name"
   ]
  },
  {
   "cell_type": "code",
   "execution_count": 13,
   "id": "5570b86c",
   "metadata": {},
   "outputs": [],
   "source": [
    "def SortByName(ListOfStudents):\n",
    "    for i in range(1, len(ListOfStudents)):\n",
    "        key = ListOfStudents[i]\n",
    "        j = i - 1\n",
    "        while j >= 0 and key['Name'] < ListOfStudents[j]['Name']:\n",
    "            ListOfStudents[j + 1] = ListOfStudents[j]\n",
    "            j -= 1\n",
    "        ListOfStudents[j + 1] = key\n",
    "    print(\"-\"*80)\n",
    "    print(\"ID\\t\\t\\tNAME\\t\\t\\tDEPARTMENT\\t\\tCGPA\")\n",
    "    print(\"-\"*80)\n",
    "    for i in range(len(ListOfStudents)):\n",
    "        print(ListOfStudents[i]['ID'],\"\\t\\t\",ListOfStudents[i]['Name'],\"\\t\\t\",\n",
    "              ListOfStudents[i]['Department'],\"\\t\\t\\t\\t\",ListOfStudents[i]['CGPA'])\n",
    "# SortByName(SampleStudents)\n"
   ]
  },
  {
   "cell_type": "markdown",
   "id": "cb8da59a",
   "metadata": {},
   "source": [
    "- By using Insertion Sort Algorithm in the above SampleStudents list have sorted By Name\n",
    "Alphabetically(from A to Z) to run this code\n",
    "- let see the sample outputs..."
   ]
  },
  {
   "cell_type": "code",
   "execution_count": 14,
   "id": "60b96150",
   "metadata": {},
   "outputs": [
    {
     "name": "stdout",
     "output_type": "stream",
     "text": [
      "--------------------------------------------------------------------------------\n",
      "ID\t\t\tNAME\t\t\tDEPARTMENT\t\tCGPA\n",
      "--------------------------------------------------------------------------------\n",
      "DBU1600010 \t\t Aberawek \t\t CS \t\t\t\t 3.0\n",
      "DBU1600001 \t\t Amanueli \t\t CS \t\t\t\t 3.27\n",
      "DBU1600008 \t\t Bereketu \t\t CS \t\t\t\t 3.86\n",
      "DBU1600013 \t\t Betelhem \t\t CS \t\t\t\t 2.67\n",
      "DBU1600000 \t\t Bizunesh \t\t CS \t\t\t\t 2.91\n",
      "DBU1600015 \t\t Dinknesh \t\t CS \t\t\t\t 3.67\n",
      "DBU1600014 \t\t Getachew \t\t CS \t\t\t\t 3.82\n",
      "DBU1600005 \t\t Getahunm \t\t CS \t\t\t\t 3.89\n",
      "DBU1600011 \t\t Girmawit \t\t CS \t\t\t\t 2.86\n",
      "DBU1600004 \t\t Mekdesee \t\t CS \t\t\t\t 3.93\n",
      "DBU1600003 \t\t Netsanet \t\t CS \t\t\t\t 3.41\n",
      "DBU1600009 \t\t Selamwit \t\t CS \t\t\t\t 3.91\n",
      "DBU1600002 \t\t Yohannes \t\t CS \t\t\t\t 3.45\n",
      "DBU1600007 \t\t Zemenaye \t\t CS \t\t\t\t 4.0\n",
      "DBU1600006 \t\t Zewudnsh \t\t CS \t\t\t\t 2.56\n"
     ]
    }
   ],
   "source": [
    "SortByName(SampleStudents)"
   ]
  },
  {
   "cell_type": "markdown",
   "id": "8cfd7e15",
   "metadata": {},
   "source": [
    "#### Selection Sort Slgorithm\n",
    "- Write a function for the Selection sort algorithm to sort the list of students by CGPA in        Descending order (Highest scorer to Lowest scorer)."
   ]
  },
  {
   "cell_type": "code",
   "execution_count": 15,
   "id": "cd499f6d",
   "metadata": {},
   "outputs": [],
   "source": [
    "def SortByCGPA(ListOfStudents):\n",
    "    for i in range(len(ListOfStudents)):\n",
    "        index=i\n",
    "        for j in range(i+1,len(ListOfStudents)):\n",
    "            if ListOfStudents[index]['CGPA']<ListOfStudents[j]['CGPA']:\n",
    "                index=j\n",
    "        if i!=index:\n",
    "            ListOfStudents[i],ListOfStudents[index]=ListOfStudents[index],ListOfStudents[i]\n",
    "    print(\"-\"*80)\n",
    "    print(\"ID\\t\\t\\tNAME\\t\\t\\tDEPARTMENT\\t\\tCGPA\")\n",
    "    print(\"-\"*80)\n",
    "    for i in range(len(ListOfStudents)):\n",
    "        print(ListOfStudents[i]['ID'],\"\\t\\t\",ListOfStudents[i]['Name'],\"\\t\\t\",\n",
    "              ListOfStudents[i]['Department'],\"\\t\\t\\t\\t\",ListOfStudents[i]['CGPA'])\n",
    "# SortByCGPA(SampleStudents)\n",
    "\n"
   ]
  },
  {
   "cell_type": "markdown",
   "id": "f3f97750",
   "metadata": {},
   "source": [
    "- By using Selection Sort Slgorithm in the above SampleStudents list have sorted By CGPA\n",
    "in Descending order (Highest scorer to Lowest scorer) to run this code\n",
    "- let see the sample outputs..."
   ]
  },
  {
   "cell_type": "code",
   "execution_count": 16,
   "id": "c176b0b0",
   "metadata": {},
   "outputs": [
    {
     "name": "stdout",
     "output_type": "stream",
     "text": [
      "--------------------------------------------------------------------------------\n",
      "ID\t\t\tNAME\t\t\tDEPARTMENT\t\tCGPA\n",
      "--------------------------------------------------------------------------------\n",
      "DBU1600007 \t\t Zemenaye \t\t CS \t\t\t\t 4.0\n",
      "DBU1600004 \t\t Mekdesee \t\t CS \t\t\t\t 3.93\n",
      "DBU1600009 \t\t Selamwit \t\t CS \t\t\t\t 3.91\n",
      "DBU1600005 \t\t Getahunm \t\t CS \t\t\t\t 3.89\n",
      "DBU1600008 \t\t Bereketu \t\t CS \t\t\t\t 3.86\n",
      "DBU1600014 \t\t Getachew \t\t CS \t\t\t\t 3.82\n",
      "DBU1600015 \t\t Dinknesh \t\t CS \t\t\t\t 3.67\n",
      "DBU1600002 \t\t Yohannes \t\t CS \t\t\t\t 3.45\n",
      "DBU1600003 \t\t Netsanet \t\t CS \t\t\t\t 3.41\n",
      "DBU1600001 \t\t Amanueli \t\t CS \t\t\t\t 3.27\n",
      "DBU1600010 \t\t Aberawek \t\t CS \t\t\t\t 3.0\n",
      "DBU1600000 \t\t Bizunesh \t\t CS \t\t\t\t 2.91\n",
      "DBU1600011 \t\t Girmawit \t\t CS \t\t\t\t 2.86\n",
      "DBU1600013 \t\t Betelhem \t\t CS \t\t\t\t 2.67\n",
      "DBU1600006 \t\t Zewudnsh \t\t CS \t\t\t\t 2.56\n"
     ]
    }
   ],
   "source": [
    "\n",
    "SortByCGPA(SampleStudents)"
   ]
  },
  {
   "cell_type": "markdown",
   "id": "a57dc317",
   "metadata": {},
   "source": [
    "## Questions\n",
    "- Write a short analysis on the following:\n",
    "    - Compare the performance of each algorithm you used in the implementation\n",
    "    - Discuss the advantages and disadvantages of each algorithm for sorting dictionary data\n",
    "\n",
    "## Answers\n",
    "\n",
    "#### 1.Bubble Sort:\n",
    "- **Bubble Sort** is a simple sorting algorithm that exchanges Adjacent elements in a list until the   list is sorted.\n",
    "- **Time complexity:**\n",
    "    - Best Case: O(n)\n",
    "    - Average and Worst Case: O(n²)\n",
    "- **Advantages:**\n",
    "    - Simple to implement.\n",
    "    - Works well with small datasets.\n",
    "- **Disadvantages:**\n",
    "            - Inefficient for large datasets.\n",
    "            - Repeated comparisons and swaps.\n",
    "#### 2.Insertion Sort:\n",
    "- **Insertion Sort** is a stable and in place sorting algorithm that can be implemented simply and easily which makes it more helpful for sorting nearly-sorted elements.\n",
    "- **Time complexity:**\n",
    "    - Best Case: O(n)\n",
    "    - Average and Worst Case: O(n²)\n",
    "- **Advantages:**\n",
    "    - Efficient for small datasets.\n",
    "    - Works well when the list is already partially sorted.\n",
    "- **Disadvantages:**\n",
    "    - Still slow for large, unsorted datasets.\n",
    "#### 3.Selection Sort:\n",
    "- **Selection Sort** is another simple comparison  based sorting algorithm.\n",
    "- **Time Complexity:**\n",
    "    - All cases: O(n²)\n",
    "- **Advantages:**\n",
    "    - Fewer swaps compared to bubble sort.\n",
    "    - Easy to implement and understand.\n",
    "- **Disadvantages:**\n",
    "    - Still inefficient for large datasets.\n",
    "\n",
    "\n",
    "                "
   ]
  }
 ],
 "metadata": {
  "kernelspec": {
   "display_name": ".venv",
   "language": "python",
   "name": "python3"
  },
  "language_info": {
   "codemirror_mode": {
    "name": "ipython",
    "version": 3
   },
   "file_extension": ".py",
   "mimetype": "text/x-python",
   "name": "python",
   "nbconvert_exporter": "python",
   "pygments_lexer": "ipython3",
   "version": "3.13.2"
  }
 },
 "nbformat": 4,
 "nbformat_minor": 5
}
